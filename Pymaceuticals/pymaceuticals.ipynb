{
 "cells": [
  {
   "cell_type": "markdown",
   "metadata": {},
   "source": [
    "## Observations and Insights "
   ]
  },
  {
   "cell_type": "markdown",
   "metadata": {},
   "source": [
    "Three observations on the pymaceutical data:\n",
    "1. There is a reasonable positive correlation between average mouse weight and tumor volume. \n",
    "2. When comparing the Ramicane, Capomulin, Infubinol, and Ceftamin, the mean final tumor volume of Ramicane and Capomulin is significantly less than Infubinol and Ceftamin. However, as Ramicane and Capomulin have more measurements than Infubinol and Ceftamin, and Infubinol has a curious outlier, it may be a good idea to get more data to confirm this trend.\n",
    "3. There is a considerable difference in the mean of the Placebo and Capomulin over the entire data set; this suggests that there is an impact on tumor volume due to this treatment (and not to any other environmental factors)."
   ]
  },
  {
   "cell_type": "code",
   "execution_count": null,
   "metadata": {},
   "outputs": [],
   "source": [
    "# Dependencies and Setup\n",
    "import matplotlib.pyplot as plt\n",
    "import pandas as pd\n",
    "import scipy.stats as st\n",
    "import numpy as np\n",
    "\n",
    "# Study data files\n",
    "mouse_metadata_path = \"data/Mouse_metadata.csv\"\n",
    "study_results_path = \"data/Study_results.csv\"\n",
    "\n",
    "# Read the mouse data and the study results\n",
    "mouse_metadata = pd.read_csv(mouse_metadata_path)\n",
    "study_results = pd.read_csv(study_results_path)\n",
    "\n",
    "# Use .info() to get summary information for each data set\n",
    "mouse_metadata.info()\n",
    "study_results.info()\n"
   ]
  },
  {
   "cell_type": "code",
   "execution_count": null,
   "metadata": {},
   "outputs": [],
   "source": [
    "# Combine the data into a single dataset\n",
    "data=pd.merge(study_results,mouse_metadata, on=\"Mouse ID\")\n",
    "\n",
    "# Display the data table for preview\n",
    "data.head(3)"
   ]
  },
  {
   "cell_type": "code",
   "execution_count": null,
   "metadata": {},
   "outputs": [],
   "source": [
    "# Checking the number of mice by grouping by Mouse ID and counting the number of rows\n",
    "ID_group=data.groupby([\"Mouse ID\"])\n",
    "mouse_count=len(ID_group)\n",
    "print(f\"Number of rows in Mouse ID column:{mouse_count}\")\n"
   ]
  },
  {
   "cell_type": "code",
   "execution_count": null,
   "metadata": {},
   "outputs": [],
   "source": [
    "# Getting the duplicate mice by ID number\n",
    "# Select duplicate rows based on Mouse ID and Timepoint using .duplicated()\n",
    "# Since keep=False, all duplicates will be listed\n",
    "# The df duplicate lists data for duplicates in both Mouse ID and Timepoint\n",
    "duplicate = data[data.duplicated(subset=[\"Timepoint\",\"Mouse ID\"], keep=False)]\n",
    "\n",
    "# The unique function is used to determine the duplicate Mouse ID\n",
    "duplicate_ID = duplicate['Mouse ID'].unique()\n",
    "\n",
    "# The nunique function counts the number of duplicates, i.e. number of duplicate unique Mouse IDs\n",
    "number_of_duplicates = duplicate['Mouse ID'].nunique()\n",
    "\n",
    "# The number of duplicates, duplicate Mouse ID, and the duplicate data frame are printed to determine what should be removed\n",
    "print(f\"There is {number_of_duplicates} duplicate(s) and the Mouse ID is {duplicate_ID}.The row(s) belonging to this Mouse ID are below.\")\n",
    "duplicate"
   ]
  },
  {
   "cell_type": "code",
   "execution_count": null,
   "metadata": {},
   "outputs": [],
   "source": [
    "# Create a clean DataFrame by dropping the duplicate mouse by its ID.\n",
    "# data_clean is a new dataframe that contains all rows except those with the Mouse ID g989\n",
    "data_clean = data[data['Mouse ID']!=\"g989\"]\n"
   ]
  },
  {
   "cell_type": "code",
   "execution_count": null,
   "metadata": {},
   "outputs": [],
   "source": [
    "# Checking the number of mice in the clean DataFrame.\n",
    "ID_group_clean = data_clean.groupby([\"Mouse ID\"])\n",
    "mouse_count_clean = len(ID_group_clean)\n",
    "print(f\"Number of rows in Mouse ID column:{mouse_count_clean}\")"
   ]
  },
  {
   "cell_type": "markdown",
   "metadata": {},
   "source": [
    "## Summary Statistics"
   ]
  },
  {
   "cell_type": "code",
   "execution_count": null,
   "metadata": {},
   "outputs": [],
   "source": [
    "# Generate a summary statistics table of mean, median, variance, standard deviation, and SEM of the tumor volume for each regimen\n",
    "\n",
    "# Use groupby and summary statistical methods to calculate the properties of each drug regimen: \n",
    "# group clean data set by drug regimen\n",
    "data_clean_regimen = data_clean.groupby([\"Drug Regimen\"])\n",
    "\n",
    "# define tumor_volume as the tumor_volume data column from the grouped dataframe\n",
    "tumor_volume = data_clean_regimen['Tumor Volume (mm3)']\n",
    "\n",
    "# calculate summary statistics\n",
    "mean_tumor = tumor_volume.mean()\n",
    "median_tumor = tumor_volume.median()\n",
    "stdev_tumor = tumor_volume.std()\n",
    "var_tumor = tumor_volume.var()\n",
    "sem_tumor = tumor_volume.sem()\n",
    "\n",
    "# concatanate summary statistics in a new dataframe and add new column titles as keys\n",
    "data_summary = pd.concat([mean_tumor, median_tumor, stdev_tumor, var_tumor, sem_tumor], axis=1, keys = ['Mean Tumor Vol. (mm3)','Median Tumor Vol. (mm3)','Tumor Vol. St. Dev.','Tumor Vol. Var. (mm3)','Tumor Vol. SEM'])\n",
    "data_summary\n",
    "\n"
   ]
  },
  {
   "cell_type": "code",
   "execution_count": null,
   "metadata": {},
   "outputs": [],
   "source": [
    "# Generate a summary statistics table of mean, median, variance, standard deviation, and SEM of the tumor volume for each regimen\n",
    "\n",
    "# Using the aggregation method, produce the same summary statistics in a single line\n",
    "summary = data_clean.groupby('Drug Regimen').agg({'Tumor Volume (mm3)': ['mean', 'median', 'std','var','sem']})\n",
    "summary"
   ]
  },
  {
   "cell_type": "markdown",
   "metadata": {},
   "source": [
    "## Bar and Pie Charts"
   ]
  },
  {
   "cell_type": "code",
   "execution_count": null,
   "metadata": {},
   "outputs": [],
   "source": []
  },
  {
   "cell_type": "code",
   "execution_count": null,
   "metadata": {},
   "outputs": [],
   "source": [
    "# Generate a bar plot showing the total number of measurements taken on each drug regimen using pandas.\n",
    "\n",
    "# count the number of Mouse IDs for each drug\n",
    "mouse_count = pd.DataFrame(data_clean.groupby(['Drug Regimen'])['Mouse ID'].count())\n",
    "\n",
    "# Bar chart of mouse_count using pandas df.plot() with kind = bar; x and y labels are also added.\n",
    "mouse_chart = mouse_count.plot(kind=\"bar\", color=\"b\", rot=45, legend=False)\n",
    "mouse_chart.set_xlabel(\"Drug Regimen\")\n",
    "mouse_chart.set_ylabel(\"Number of Measurements\")\n",
    "\n",
    "plt.show()\n"
   ]
  },
  {
   "cell_type": "code",
   "execution_count": null,
   "metadata": {},
   "outputs": [],
   "source": [
    "# Generate a bar plot showing the total number of measurements taken on each drug regimen using pyplot.\n",
    "# create lists from mouse_count df as input values for pyplot\n",
    "drug_list = list(mouse_count.index.values)\n",
    "measurements = mouse_count['Mouse ID'].tolist()\n",
    "\n",
    "#create bar chart using pyplot\n",
    "plt.bar(drug_list, measurements, color='b', align=\"center\")\n",
    "plt.xticks(rotation=45)\n",
    "plt.xlabel(\"Drug Regimen\")\n",
    "plt.ylabel(\"Number of Measurements\")\n",
    "\n",
    "\n"
   ]
  },
  {
   "cell_type": "code",
   "execution_count": null,
   "metadata": {},
   "outputs": [],
   "source": [
    "# Generate a pie plot showing the distribution of female versus male mice using pandas\n",
    "# count the number of male and female mice using .count()\n",
    "count = pd.DataFrame(data_clean.groupby(['Sex'])['Mouse ID'].count())\n",
    "\n",
    "# rename columns to control label (there is probably another way to do this ¯\\_(ツ)_/¯)\n",
    "sex_count=count.rename(columns={\"Sex\": \"Sex\", \"Mouse ID\": \"Sex of Mice\"})\n",
    "\n",
    "# Pie chart of sex_count using pandas df.plot.pie() \n",
    "pie = sex_count.plot.pie(y='Sex of Mice',autopct='%1.1f%%', shadow=True, startangle=15, legend=False )\n",
    "\n"
   ]
  },
  {
   "cell_type": "code",
   "execution_count": null,
   "metadata": {},
   "outputs": [],
   "source": [
    "# Generate a pie plot showing the distribution of female versus male mice using pyplot\n",
    "# create lists from sex_count df as input values for pyplot\n",
    "sex = list(sex_count.index.values)\n",
    "m_f_count = sex_count['Sex of Mice'].tolist()\n",
    "\n",
    "#create pie chart using pyplot and add y lable to match pandas pie chart\n",
    "plt.pie(m_f_count, labels=sex, autopct=\"%1.1f%%\", shadow=True, startangle=15)\n",
    "plt.ylabel(\"Sex of Mice\")\n",
    "\n"
   ]
  },
  {
   "cell_type": "markdown",
   "metadata": {},
   "source": [
    "## Quartiles, Outliers and Boxplots"
   ]
  },
  {
   "cell_type": "code",
   "execution_count": null,
   "metadata": {},
   "outputs": [],
   "source": [
    "# Calculate the final tumor volume of each mouse across four of the treatment regimens:  \n",
    "# Capomulin, Ramicane, Infubinol, and Ceftamin\n",
    "\n",
    "# Start by getting the last (greatest) timepoint for each mouse\n",
    "# create a new dataframe that is grouped by Mouse ID and provides the maximum Timepoint for each Mouse ID\n",
    "max_time = data_clean.groupby('Mouse ID')['Timepoint'].max().reset_index()\n",
    "\n",
    "# Merge this group df with the original dataframe to get the tumor volume at the last timepoint\n",
    "merge_time = max_time.merge(data_clean, left_on=(max_time['Mouse ID'], 'Timepoint'), right_on=(data_clean['Mouse ID'], 'Timepoint'), how='left')\n",
    "\n",
    "# print out merged dataframe to check\n",
    "merge_time"
   ]
  },
  {
   "cell_type": "code",
   "execution_count": null,
   "metadata": {},
   "outputs": [],
   "source": [
    "# Put treatments into a list for for loop (and later for plot labels)\n",
    "treatments = ['Capomulin', 'Ramicane', 'Infubinol', 'Ceftamin']\n",
    "\n",
    "# Create empty list to fill with tumor vol data \n",
    "tumor_vol = []\n",
    "\n",
    "# Calculate the IQR and quantitatively determine if there are any potential outliers. \n",
    "# use a for loop to get values for each drug of interest and append to list\n",
    "for treatment in treatments:\n",
    "    \n",
    "    # create a subset data frame with tumor volume data from a particular drug regimen\n",
    "    sub_df = merge_time.loc[merge_time['Drug Regimen'] == treatment, ['Tumor Volume (mm3)']]\n",
    "    \n",
    "    # calculate quartiles to get lower/upper quartiles, iqr, and lower/upper bounds\n",
    "    quartiles = sub_df['Tumor Volume (mm3)'].quantile([0.25,0.5,0.75])\n",
    "    lowerq = quartiles[0.25]\n",
    "    upperq = quartiles[0.75]\n",
    "    iqr = upperq-lowerq\n",
    "    lower_bound = lowerq - (1.5*iqr)\n",
    "    upper_bound = upperq + (1.5*iqr)\n",
    "    \n",
    "    # append each list of calculations to the tumor_vol list\n",
    "    tumor_vol.append({'Drug Regimen':treatment, 'Tumor Volume Lower Q (mm3)':lowerq, 'Tumor Volume Upper Q (mm3)':upperq, 'Tumor Volume IQR (mm3)':iqr, 'Tumor Volume Lower Bound (mm3)':lower_bound,'Tumor Volume Upper Bound (mm3)':upper_bound})\n",
    "\n",
    "# make a dataframe from appended tumor volume list\n",
    "iqr_df = pd.DataFrame(tumor_vol)\n",
    "iqr_df          \n",
    "    "
   ]
  },
  {
   "cell_type": "code",
   "execution_count": null,
   "metadata": {},
   "outputs": [],
   "source": [
    "# Determine outliers using upper and lower bounds\n",
    "# Create dataframe with final tumor volumes and only the treatments of interest\n",
    "\n",
    "capomulin_1 = merge_time.loc[merge_time['Drug Regimen'] == \"Capomulin\", ['Tumor Volume (mm3)']]\n",
    "capomulin_2 = capomulin_1.reset_index(drop=True)\n",
    "capomulin = capomulin_2.rename(columns={\"Tumor Volume (mm3)\":\"Capomulin\"})\n",
    "ramicane_1 = merge_time.loc[merge_time['Drug Regimen'] == \"Ramicane\", ['Tumor Volume (mm3)']]\n",
    "ramicane_2 = ramicane_1.reset_index(drop=True)\n",
    "ramicane = ramicane_2.rename(columns={\"Tumor Volume (mm3)\":\"Ramicane\"})\n",
    "infubinol_1 = merge_time.loc[merge_time['Drug Regimen'] == \"Infubinol\", ['Tumor Volume (mm3)']]\n",
    "infubinol_2 = infubinol_1.reset_index(drop=True)\n",
    "infubinol = infubinol_2.rename(columns={\"Tumor Volume (mm3)\":\"Infubinol\"})\n",
    "ceftamin_1 = merge_time.loc[merge_time['Drug Regimen'] == \"Ceftamin\", ['Tumor Volume (mm3)']]\n",
    "ceftamin_2 = ceftamin_1.reset_index(drop=True)\n",
    "ceftamin = ceftamin_2.rename(columns={\"Tumor Volume (mm3)\":\"Ceftamin\"})\n",
    "\n",
    "result = pd.concat([capomulin, ramicane, infubinol, ceftamin], axis=1)\n",
    "\n",
    "# I got stuck here on trying to print any values in this dataframe that are greater than or less than the bounds"
   ]
  },
  {
   "cell_type": "code",
   "execution_count": null,
   "metadata": {
    "scrolled": true
   },
   "outputs": [],
   "source": [
    "# Generate a box plot of the final tumor volume of each mouse across four regimens of interest\n",
    "boxplot = result.boxplot(column=['Capomulin', 'Ramicane', 'Infubinol','Ceftamin'],grid=False)\n"
   ]
  },
  {
   "cell_type": "markdown",
   "metadata": {},
   "source": [
    "## Line and Scatter Plots"
   ]
  },
  {
   "cell_type": "code",
   "execution_count": null,
   "metadata": {},
   "outputs": [],
   "source": [
    "# Generate a line plot of tumor volume vs. time point for a mouse treated with Capomulin\n",
    "# create subset dataframe with only Capomulin data and one mouse (choosing b128)\n",
    "capomulin_b128 = data_clean[(data_clean['Drug Regimen']=='Capomulin') & (data_clean['Mouse ID']=='b128')]\n",
    "#capomulin_b128\n",
    "x_values = capomulin_b128['Timepoint']\n",
    "y_values = capomulin_b128['Tumor Volume (mm3)']\n",
    "\n",
    "plt.plot(x_values, y_values, color=\"red\", label=\"Mouse b128\")\n",
    "\n",
    "#Add labels to X and Y axes :: Add title\n",
    "plt.title(\"Tumor Volume vs. Timepoint with Capomulin Treatment\")\n",
    "plt.xlabel(\"Time Point (days)\")\n",
    "plt.ylabel(\"Tumor Volume (mm3)\")\n",
    "plt.legend(loc=\"best\")"
   ]
  },
  {
   "cell_type": "code",
   "execution_count": null,
   "metadata": {},
   "outputs": [],
   "source": [
    "# Generate a scatter plot of average tumor volume vs. mouse weight for the Capomulin regimen\n",
    "# df with only Capomul data\n",
    "capomulin = data_clean[(data_clean['Drug Regimen']=='Capomulin')]\n",
    "\n",
    "# Grouby Mouse ID and calculate averages for all column values using .mean()\n",
    "capomulin_group_avg =  capomulin.groupby(['Mouse ID']).mean()\n",
    "\n",
    "# Plot avg tumor volume vs. mouse weight\n",
    "# define x and y values from capomulin avg df\n",
    "x_values_c = capomulin_group_avg['Weight (g)']\n",
    "y_values_c = capomulin_group_avg['Tumor Volume (mm3)']\n",
    "\n",
    "# Use plt.scatter and other parameters to create the plot\n",
    "plt.scatter(x_values_c,y_values_c)\n",
    "plt.title(\"Avg. Tumor Volume vs. Avg. Mouse Weight with Capomulin Treatment\")\n",
    "plt.xlabel('Avg. Weight (g)')\n",
    "plt.ylabel('Avg. Tumor Volume (mm3)')\n",
    "plt.show()"
   ]
  },
  {
   "cell_type": "markdown",
   "metadata": {},
   "source": [
    "## Correlation and Regression"
   ]
  },
  {
   "cell_type": "code",
   "execution_count": null,
   "metadata": {},
   "outputs": [],
   "source": [
    "# Calculate the correlation coefficient and linear regression model \n",
    "# for mouse weight and average tumor volume for the Capomulin regimen\n",
    "\n",
    "# Define x and y data from Capomulin average dataframe \n",
    "x_values_c = capomulin_group_avg['Weight (g)']\n",
    "y_values_c = capomulin_group_avg['Tumor Volume (mm3)']\n",
    "\n",
    "# Import lineregress from scipy.stats\n",
    "from scipy.stats import linregress\n",
    "\n",
    "# Define values using lineregress\n",
    "(slope, intercept, rvalue, pvalue, stderr) = linregress(x_values_c, y_values_c)\n",
    "regress_values = x_values_c * slope + intercept\n",
    "\n",
    "# Define line equation\n",
    "line_eq = \"y = \" + str(round(slope,2)) + \"x + \" + str(round(intercept,2))\n",
    "\n",
    "# Plot data, line, and equation of the line (using plt.annotate)\n",
    "plt.scatter(x_values_c,y_values_c)\n",
    "plt.plot(x_values_c,regress_values,\"r-\")\n",
    "plt.annotate(line_eq,(20,36),fontsize=15,color=\"red\")\n",
    "plt.title(\"Avg. Tumor Volume vs. Avg. Mouse Weight with Capomulin Treatment\")\n",
    "plt.xlabel('Avg. Weight (g)')\n",
    "plt.ylabel('Avg. Tumor Volume (mm3)')\n",
    "plt.show()\n",
    "\n",
    "# Calculate the correlation coefficient between avg. tumor volume and avg. mouse weight with capomulin treatment \n",
    "# using st.pearsonr() function\n",
    "correlation = st.pearsonr(x_values_c,y_values_c)\n",
    "print(f'The correlation between mouse weight and average tumor volume is {round(correlation[0],2)}.')\n"
   ]
  }
 ],
 "metadata": {
  "anaconda-cloud": {},
  "kernelspec": {
   "display_name": "Python 3",
   "language": "python",
   "name": "python3"
  },
  "language_info": {
   "codemirror_mode": {
    "name": "ipython",
    "version": 3
   },
   "file_extension": ".py",
   "mimetype": "text/x-python",
   "name": "python",
   "nbconvert_exporter": "python",
   "pygments_lexer": "ipython3",
   "version": "3.6.10"
  }
 },
 "nbformat": 4,
 "nbformat_minor": 4
}
